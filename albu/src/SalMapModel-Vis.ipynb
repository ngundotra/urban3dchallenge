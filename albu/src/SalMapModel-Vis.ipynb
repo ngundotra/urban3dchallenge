{
 "cells": [
  {
   "cell_type": "code",
   "execution_count": 1,
   "metadata": {},
   "outputs": [],
   "source": [
    "import matplotlib.pyplot as plt\n",
    "import seaborn as sns\n",
    "sns.set(rc={'axes.grid':False})\n",
    "import cv2\n",
    "import numpy as np\n",
    "import georaster\n",
    "import torch\n",
    "import json\n",
    "import os\n",
    "from pytorch_utils.eval import read_model, flip\n",
    "from nbutils import thresh, score_pred, load_img, make_input_tensor, predict_on_file, get_saliency_big, plot_poly\n",
    "from config import Config"
   ]
  },
  {
   "cell_type": "code",
   "execution_count": 2,
   "metadata": {},
   "outputs": [],
   "source": [
    "cfg_f = '../resnet34_1x1080_retrain.json'\n",
    "with open(cfg_f, 'r') as f:\n",
    "    cfg = json.load(f)\n",
    "cfg = Config(**cfg)\n",
    "# When we have satellite imagery & depth-mapping\n",
    "# See end of file for attempt at using only imagery\n",
    "model = read_model(cfg, 4)"
   ]
  },
  {
   "cell_type": "code",
   "execution_count": null,
   "metadata": {},
   "outputs": [],
   "source": []
  }
 ],
 "metadata": {
  "kernelspec": {
   "display_name": "gdal",
   "language": "python",
   "name": "gdal"
  },
  "language_info": {
   "codemirror_mode": {
    "name": "ipython",
    "version": 3
   },
   "file_extension": ".py",
   "mimetype": "text/x-python",
   "name": "python",
   "nbconvert_exporter": "python",
   "pygments_lexer": "ipython3",
   "version": "3.6.6"
  }
 },
 "nbformat": 4,
 "nbformat_minor": 2
}
