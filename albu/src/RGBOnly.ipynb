{
 "cells": [
  {
   "cell_type": "markdown",
   "metadata": {},
   "source": [
    "# Extension of Albu to RGB Only\n",
    "So far unsuccessful attempt to make the model work with only 3 channels again. Currently in progress."
   ]
  },
  {
   "cell_type": "code",
   "execution_count": 1,
   "metadata": {},
   "outputs": [],
   "source": [
    "save_mem = True\n",
    "if not save_mem:\n",
    "    # When we only have satellite imagery\n",
    "    rgb_model = read_model(cfg, 3)\n",
    "\n",
    "    sd = rgb_model.state_dict()\n",
    "    skip_layers = rgb_model.first_layer_params_names\n",
    "    print('skipping: ', [k for k in pretrained_dict.keys() if any(s in k for s in skip_layers)])\n",
    "    pretrained_dict = {k: v for k, v in pretrained_dict.items() if not any(s in k for s in skip_layers)}\n",
    "    sd.update(pretrained_dict)\n",
    "    rgb_model.load_state_dict(sd)\n",
    "\n",
    "    output3 = predict_on_file(rgb_model, fname, crop=True, channels=3)\n",
    "    print(\"F1 / IOU with crop + flip:\", \n",
    "          score_pred(thresh(output3),lbl))\n",
    "    print(\"F1 / IOU with no crop + flip:\", \n",
    "          score_pred(thresh(predict_on_file(rgb_model, fname, crop=False, channels=3)), lbl))\n",
    "    print(\"F1 / IOU with no crop + no flip:\",\n",
    "         score_pred(thresh(predict_on_file(rgb_model, fname, crop=False, channels=3, flips=flip.FLIP_NONE)), lbl))"
   ]
  }
 ],
 "metadata": {
  "kernelspec": {
   "display_name": "gdal",
   "language": "python",
   "name": "gdal"
  },
  "language_info": {
   "codemirror_mode": {
    "name": "ipython",
    "version": 3
   },
   "file_extension": ".py",
   "mimetype": "text/x-python",
   "name": "python",
   "nbconvert_exporter": "python",
   "pygments_lexer": "ipython3",
   "version": "3.6.6"
  }
 },
 "nbformat": 4,
 "nbformat_minor": 2
}
