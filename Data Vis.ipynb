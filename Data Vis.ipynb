{
 "cells": [
  {
   "cell_type": "code",
   "execution_count": null,
   "metadata": {
    "collapsed": true
   },
   "outputs": [],
   "source": []
  },
  {
   "cell_type": "markdown",
   "metadata": {},
   "source": [
    "# Data\n",
    "Data is located under [S3 bucket](https://registry.opendata.aws/spacenet/) for Spacenet (us-east-1 region), s3://spacenet-dataset/Urban_3D_Challenge/. Downloading requires you to download the AWS command line interface (CLI) and configuring it to your account credentials. Download speed is 8 MiB/s, downloading took ~20 mins. \n",
    "\n",
    "Our Train data is split between ground truth (GT) and Inputs. The GT files are instance level (GTI), ... (GTC), ...(GTL). The input files are Domain Surface Models including buildings (DSM), Domain Terrain Models of the ground and natural features not including buildings (DTM), and orthorectified satellite imagery (RGB). All input data is in GeoTIFF format (can click 2 open and view in any photo viewer)\n"
   ]
  },
  {
   "cell_type": "code",
   "execution_count": 3,
   "metadata": {},
   "outputs": [
    {
     "name": "stdout",
     "output_type": "stream",
     "text": [
      "Train/GT/JAX_Tile_004_GTC.tif  Train/GT/TAM_Tile_004_GTC.tif\r\n",
      "Train/GT/JAX_Tile_004_GTI.tif  Train/GT/TAM_Tile_004_GTI.tif\r\n",
      "Train/GT/JAX_Tile_004_GTL.tif  Train/GT/TAM_Tile_004_GTL.tif\r\n"
     ]
    }
   ],
   "source": [
    "!ls Train/GT/*004_* "
   ]
  },
  {
   "cell_type": "code",
   "execution_count": 4,
   "metadata": {},
   "outputs": [
    {
     "name": "stdout",
     "output_type": "stream",
     "text": [
      "Train/Inputs/JAX_Tile_004_DSM.tif  Train/Inputs/TAM_Tile_004_DSM.tif\r\n",
      "Train/Inputs/JAX_Tile_004_DTM.tif  Train/Inputs/TAM_Tile_004_DTM.tif\r\n",
      "Train/Inputs/JAX_Tile_004_RGB.tif  Train/Inputs/TAM_Tile_004_RGB.tif\r\n"
     ]
    }
   ],
   "source": [
    "!ls Train/Inputs/*004_*"
   ]
  },
  {
   "cell_type": "markdown",
   "metadata": {},
   "source": [
    "### Size of Data\n",
    "Training data"
   ]
  },
  {
   "cell_type": "code",
   "execution_count": 5,
   "metadata": {},
   "outputs": [
    {
     "name": "stdout",
     "output_type": "stream",
     "text": [
      "7.5G\t./Train/Inputs\r\n",
      "4.3G\t./Train/GT\r\n",
      "12G\t./Train\r\n"
     ]
    }
   ],
   "source": [
    "! du -d 1 -h ./Train"
   ]
  },
  {
   "cell_type": "markdown",
   "metadata": {},
   "source": [
    "Test data"
   ]
  },
  {
   "cell_type": "code",
   "execution_count": 6,
   "metadata": {},
   "outputs": [
    {
     "name": "stdout",
     "output_type": "stream",
     "text": [
      "2.7G\t./Test/Inputs\r\n",
      "1.5G\t./Test/GT\r\n",
      "4.2G\t./Test\r\n"
     ]
    }
   ],
   "source": [
    "! du -d 1 -h ./Test"
   ]
  }
 ],
 "metadata": {
  "kernelspec": {
   "display_name": "PyTorch Kernel",
   "language": "python",
   "name": "torchkern"
  },
  "language_info": {
   "codemirror_mode": {
    "name": "ipython",
    "version": 3
   },
   "file_extension": ".py",
   "mimetype": "text/x-python",
   "name": "python",
   "nbconvert_exporter": "python",
   "pygments_lexer": "ipython3",
   "version": "3.6.4"
  }
 },
 "nbformat": 4,
 "nbformat_minor": 2
}
